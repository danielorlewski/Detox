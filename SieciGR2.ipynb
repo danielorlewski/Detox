{
  "nbformat": 4,
  "nbformat_minor": 0,
  "metadata": {
    "colab": {
      "name": "SieciGR2",
      "provenance": [],
      "toc_visible": true,
      "authorship_tag": "ABX9TyMAyAOB5oDNl0F0VFipPgAM",
      "include_colab_link": true
    },
    "kernelspec": {
      "name": "python3",
      "display_name": "Python 3"
    }
  },
  "cells": [
    {
      "cell_type": "markdown",
      "metadata": {
        "id": "view-in-github",
        "colab_type": "text"
      },
      "source": [
        "<a href=\"https://colab.research.google.com/github/danielorlewski/Detox/blob/master/SieciGR2.ipynb\" target=\"_parent\"><img src=\"https://colab.research.google.com/assets/colab-badge.svg\" alt=\"Open In Colab\"/></a>"
      ]
    },
    {
      "cell_type": "code",
      "metadata": {
        "id": "GtFYiFGNP5Zn",
        "colab_type": "code",
        "colab": {}
      },
      "source": [
        ""
      ],
      "execution_count": 0,
      "outputs": []
    },
    {
      "cell_type": "markdown",
      "metadata": {
        "id": "ZD5azObZP7Zc",
        "colab_type": "text"
      },
      "source": [
        "# Sieci - grupa 1\n"
      ]
    },
    {
      "cell_type": "markdown",
      "metadata": {
        "id": "Zb5GTS9VQG2g",
        "colab_type": "text"
      },
      "source": [
        "Operacje arytmetyczne \n"
      ]
    },
    {
      "cell_type": "markdown",
      "metadata": {
        "id": "AgZab6DYP6GA",
        "colab_type": "text"
      },
      "source": [
        "# New Section"
      ]
    },
    {
      "cell_type": "code",
      "metadata": {
        "id": "KO3YLB1YQhIs",
        "colab_type": "code",
        "colab": {}
      },
      "source": [
        "x = 10 \n",
        "x = x + 5"
      ],
      "execution_count": 0,
      "outputs": []
    },
    {
      "cell_type": "code",
      "metadata": {
        "id": "JN6WujElQpeE",
        "colab_type": "code",
        "colab": {}
      },
      "source": [
        "print(x)"
      ],
      "execution_count": 0,
      "outputs": []
    },
    {
      "cell_type": "code",
      "metadata": {
        "id": "D9cVXlnxQwDo",
        "colab_type": "code",
        "colab": {}
      },
      "source": [
        "y = 5\n",
        "y +=5"
      ],
      "execution_count": 0,
      "outputs": []
    },
    {
      "cell_type": "code",
      "metadata": {
        "id": "wBFxgYt9Q6ZQ",
        "colab_type": "code",
        "colab": {}
      },
      "source": [
        "print(y)"
      ],
      "execution_count": 0,
      "outputs": []
    },
    {
      "cell_type": "code",
      "metadata": {
        "id": "HNhbhYcUQ8Sh",
        "colab_type": "code",
        "colab": {}
      },
      "source": [
        "a = 10\n",
        "a = a - 6"
      ],
      "execution_count": 0,
      "outputs": []
    },
    {
      "cell_type": "code",
      "metadata": {
        "id": "YJKQV5vDRQZm",
        "colab_type": "code",
        "colab": {}
      },
      "source": [
        "print(a)"
      ],
      "execution_count": 0,
      "outputs": []
    },
    {
      "cell_type": "code",
      "metadata": {
        "id": "OhV7NHYURSjm",
        "colab_type": "code",
        "colab": {}
      },
      "source": [
        "b = 40\n",
        "b = b * 10"
      ],
      "execution_count": 0,
      "outputs": []
    },
    {
      "cell_type": "code",
      "metadata": {
        "id": "dBlhzoc4Ra0t",
        "colab_type": "code",
        "colab": {}
      },
      "source": [
        "print(b)"
      ],
      "execution_count": 0,
      "outputs": []
    },
    {
      "cell_type": "code",
      "metadata": {
        "id": "MnM2mEBZRb-l",
        "colab_type": "code",
        "colab": {}
      },
      "source": [
        "c = 100\n",
        "c = c / 20"
      ],
      "execution_count": 0,
      "outputs": []
    },
    {
      "cell_type": "code",
      "metadata": {
        "id": "a67kjlF0RhCQ",
        "colab_type": "code",
        "colab": {}
      },
      "source": [
        "print(c)"
      ],
      "execution_count": 0,
      "outputs": []
    },
    {
      "cell_type": "code",
      "metadata": {
        "id": "Ig3WVEeKRiTQ",
        "colab_type": "code",
        "colab": {}
      },
      "source": [
        "d = 30\n",
        "d = d ** 43"
      ],
      "execution_count": 0,
      "outputs": []
    },
    {
      "cell_type": "code",
      "metadata": {
        "id": "ZLnyZ6GHRpuC",
        "colab_type": "code",
        "colab": {}
      },
      "source": [
        "print(d)"
      ],
      "execution_count": 0,
      "outputs": []
    },
    {
      "cell_type": "code",
      "metadata": {
        "id": "-Lk_Fah2RqkL",
        "colab_type": "code",
        "colab": {}
      },
      "source": [
        "e = 5\n",
        "e = e // 5"
      ],
      "execution_count": 0,
      "outputs": []
    },
    {
      "cell_type": "code",
      "metadata": {
        "id": "ibN4G9UTRx3a",
        "colab_type": "code",
        "colab": {}
      },
      "source": [
        "print(e)"
      ],
      "execution_count": 0,
      "outputs": []
    },
    {
      "cell_type": "code",
      "metadata": {
        "id": "u_zBEufSRyl9",
        "colab_type": "code",
        "colab": {}
      },
      "source": [
        "a * b * c"
      ],
      "execution_count": 0,
      "outputs": []
    },
    {
      "cell_type": "code",
      "metadata": {
        "id": "YtkbaRbcSZ0n",
        "colab_type": "code",
        "colab": {}
      },
      "source": [
        "\n",
        "sala = \"3.120\"\n",
        "print(sala * 3)"
      ],
      "execution_count": 0,
      "outputs": []
    },
    {
      "cell_type": "code",
      "metadata": {
        "id": "y5pHMPD_SrHc",
        "colab_type": "code",
        "colab": {}
      },
      "source": [
        "\n",
        "e = \"1\"\n",
        "print(e * 2)"
      ],
      "execution_count": 0,
      "outputs": []
    },
    {
      "cell_type": "markdown",
      "metadata": {
        "id": "rBxVWdbXTfxt",
        "colab_type": "text"
      },
      "source": [
        "Tylko operacja mnożenia *"
      ]
    },
    {
      "cell_type": "code",
      "metadata": {
        "id": "Eizx13pTT13S",
        "colab_type": "code",
        "colab": {}
      },
      "source": [
        "sala1 = 0"
      ],
      "execution_count": 0,
      "outputs": []
    },
    {
      "cell_type": "code",
      "metadata": {
        "id": "2hFzjdfBUN7z",
        "colab_type": "code",
        "colab": {}
      },
      "source": [
        "print(Sala1)"
      ],
      "execution_count": 0,
      "outputs": []
    },
    {
      "cell_type": "markdown",
      "metadata": {
        "id": "Nfsw8fInVVvS",
        "colab_type": "text"
      },
      "source": [
        "‒\tMuszą zaczynać się od litery lub podkreślenia\n",
        "‒\tMogą zawierać litery, cyfry, podkreślenia (bez polskich znaków)\n",
        "‒\tWielkość znaków ma znaczenie\n",
        "‒\tPewne słowa są zarezerwowane np. do funkcji i metod  tych zarezerwowanych słów nie stosuje się do nazywania zmiennych\n",
        "‒\tNazwy zmiennych mają nieść znaczenie!\n",
        "\n"
      ]
    },
    {
      "cell_type": "code",
      "metadata": {
        "id": "AmZY8n3bW9gi",
        "colab_type": "code",
        "colab": {}
      },
      "source": [
        "type(int)"
      ],
      "execution_count": 0,
      "outputs": []
    },
    {
      "cell_type": "code",
      "metadata": {
        "id": "yyV18IjvW_2h",
        "colab_type": "code",
        "colab": {}
      },
      "source": [
        "type(3.2)"
      ],
      "execution_count": 0,
      "outputs": []
    },
    {
      "cell_type": "code",
      "metadata": {
        "id": "qD-yfYKNXBd3",
        "colab_type": "code",
        "colab": {}
      },
      "source": [
        "type(\"Lelek nieinformatyk\")"
      ],
      "execution_count": 0,
      "outputs": []
    },
    {
      "cell_type": "code",
      "metadata": {
        "id": "ESW5ns-IXGFY",
        "colab_type": "code",
        "colab": {}
      },
      "source": [
        "zal = True\n",
        "type(zal)"
      ],
      "execution_count": 0,
      "outputs": []
    },
    {
      "cell_type": "code",
      "metadata": {
        "id": "9boCnUOAXKg2",
        "colab_type": "code",
        "colab": {}
      },
      "source": [
        "3 == 3"
      ],
      "execution_count": 0,
      "outputs": []
    },
    {
      "cell_type": "code",
      "metadata": {
        "id": "5fzMS_EfXlYk",
        "colab_type": "code",
        "colab": {}
      },
      "source": [
        "3 == 6 - 3"
      ],
      "execution_count": 0,
      "outputs": []
    },
    {
      "cell_type": "code",
      "metadata": {
        "id": "p8DfSH_TXm6Y",
        "colab_type": "code",
        "colab": {}
      },
      "source": [
        "3 == 5"
      ],
      "execution_count": 0,
      "outputs": []
    },
    {
      "cell_type": "code",
      "metadata": {
        "id": "CoUrZ7aKXobl",
        "colab_type": "code",
        "colab": {}
      },
      "source": [
        "3 != 3"
      ],
      "execution_count": 0,
      "outputs": []
    },
    {
      "cell_type": "code",
      "metadata": {
        "id": "WenYcWOHXs01",
        "colab_type": "code",
        "colab": {}
      },
      "source": [
        "brzoza = (\"drzewo\")"
      ],
      "execution_count": 0,
      "outputs": []
    },
    {
      "cell_type": "code",
      "metadata": {
        "id": "UQWh9_E3X6Fl",
        "colab_type": "code",
        "colab": {}
      },
      "source": [
        "brzoza == \"drzewo\""
      ],
      "execution_count": 0,
      "outputs": []
    },
    {
      "cell_type": "markdown",
      "metadata": {
        "id": "9Ut79D8MYG6d",
        "colab_type": "text"
      },
      "source": [
        "Można porównywać ciągi znaków, nie tylko liczby"
      ]
    },
    {
      "cell_type": "code",
      "metadata": {
        "id": "Q3ApDZmuZLD9",
        "colab_type": "code",
        "colab": {
          "base_uri": "https://localhost:8080/",
          "height": 34
        },
        "outputId": "1c3c3427-66d7-4c25-dd74-1b0930991ea5"
      },
      "source": [
        "org = [\"Klasyk\", \"Daniel\", \"AXOXAS\"]\n",
        "len(org)"
      ],
      "execution_count": 1,
      "outputs": [
        {
          "output_type": "execute_result",
          "data": {
            "text/plain": [
              "3"
            ]
          },
          "metadata": {
            "tags": []
          },
          "execution_count": 1
        }
      ]
    },
    {
      "cell_type": "code",
      "metadata": {
        "id": "WXu7xjpkZMdS",
        "colab_type": "code",
        "colab": {}
      },
      "source": [
        ""
      ],
      "execution_count": 0,
      "outputs": []
    }
  ]
}